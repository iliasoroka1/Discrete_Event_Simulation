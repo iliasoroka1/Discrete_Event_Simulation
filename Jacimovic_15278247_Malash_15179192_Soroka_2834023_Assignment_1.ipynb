{
 "cells": [
  {
   "cell_type": "code",
   "execution_count": 2,
   "metadata": {},
   "outputs": [],
   "source": [
    "import simpy\n",
    "import numpy as np\n",
    "import matplotlib.pyplot as plt\n",
    "import seaborn as sns\n",
    "import random\n",
    "import pandas as pd\n",
    "import time\n",
    "from scipy import stats\n",
    "import heapq\n"
   ]
  },
  {
   "cell_type": "markdown",
   "metadata": {},
   "source": [
    "Queuing theory tells us that for FIFO scheduling the average waiting times are shorter for an\n",
    "$M/M/n$ queue and a system load $\\rho$ and processor capacity $\\mu$ than for a single $M/M/1$ queue\n",
    "with the same load characteristics (and thus an n-fold lower arrival rate). Of course, $\\rho$ must be\n",
    "less than one, but the experiment only becomes interesting when $\\rho$ is not much less than one.\n",
    "\n",
    "$\\lambda$ then becomes $\\lambda = \\rho*n*\\mu$.\n",
    "\n",
    "Code sources: \"https://simpy.readthedocs.io/en/latest/examples/bank_renege.html\" and \"https://www.youtube.com/watch?v=eSNfC-HOl44\""
   ]
  },
  {
   "cell_type": "code",
   "execution_count": 13,
   "metadata": {},
   "outputs": [
    {
     "name": "stdout",
     "output_type": "stream",
     "text": [
      "Total customers served: 362\n",
      "Average waiting time: 5.506389280338976\n"
     ]
    }
   ],
   "source": [
    "# M/M/1 (M/M/n) queueing system\n",
    "def generate_interarrival(mu,n,rho):\n",
    "    return random.expovariate(mu*n*rho)\n",
    "\n",
    "\n",
    "def source(env, n, rho, mu, servers):\n",
    "    \"\"\"Source generates customers randomly based on exponential distribution\"\"\"\n",
    "    i = 0\n",
    "    while True:\n",
    "        i += 1\n",
    "        c = customer(env, i, servers, mu)\n",
    "        env.process(c)\n",
    "        t = random.expovariate(mu*n*rho)\n",
    "        yield env.timeout(t)   \n",
    "\n",
    "total_waiting_time = []\n",
    "\n",
    "def customer(env, customer, servers, mu):\n",
    "    \"\"\"This generator function models the behavior of a customer in the queue.\"\"\"\n",
    "    time_of_arrival = env.now\n",
    "    len(servers.queue)\n",
    "    with servers.request() as req:    \n",
    "        #print(env.now, 'customer {} arrives'.format(customer))\n",
    "        yield req\n",
    "        time_of_handling = random.expovariate(mu)\n",
    "        #print(env.now, 'customer {} is being served'.format(customer))\n",
    "        yield env.timeout(time_of_handling)\n",
    "        waiting_time = env.now\n",
    "        #print(env.now, 'customer {} departs'.format(customer))\n",
    "        total_waiting_time.append(waiting_time-time_of_arrival)\n",
    "\n",
    "### Setup and start the simulation\n",
    "\n",
    "# Initial values            \n",
    "mu = 1  # Parameter mu\n",
    "rho = 0.9 #[0.7,0.85,0.9,0.95,0.99] # Parameter rho (varying for values close to 1)\n",
    "n = 2 # Number of servers, in our case 1, 2 and 4\n",
    "\n",
    "env = simpy.Environment()\n",
    "\n",
    "# Start processes and run\n",
    "servers = simpy.Resource(env, capacity=n)\n",
    "env.process(source(env, n, rho, mu, servers))\n",
    "env.run(until=200)\n",
    "print(f\"Total customers served: {len(total_waiting_time)}\")\n",
    "print(f\"Average waiting time: {sum(total_waiting_time) / len(total_waiting_time) if total_waiting_time else 0}\")"
   ]
  },
  {
   "cell_type": "code",
   "execution_count": 6,
   "metadata": {},
   "outputs": [
    {
     "name": "stdout",
     "output_type": "stream",
     "text": [
      "rho=0.9 for server number 1 finished\n",
      "rho=0.95 for server number 1 finished\n"
     ]
    }
   ],
   "source": [
    "# Defining function for simulating M/M/n queue system\n",
    "\n",
    "# Setup and start the simulation\n",
    "def sim_run(n,rho,mu,sim_duration):\n",
    "    env = simpy.Environment()\n",
    "    # Start processes and run\n",
    "    servers = simpy.Resource(env, capacity=n)\n",
    "    env.process(source(env, n, rho, mu, servers))\n",
    "    env.run(until=sim_duration)\n",
    "    \n",
    "# Looping over the simulation and extracting mean and standard deviation\n",
    "# Initial values\n",
    "sim_duration = 500     \n",
    "mu = 1  # Parameter mu\n",
    "rho_vals = [0.9,0.95] #[0.7,0.85,0.92,0.95,0.99]\n",
    "n = [1] #[1,2,4]\n",
    "\n",
    "# Running simulation to calculate mean\n",
    "sim_runs = 20\n",
    "data = []\n",
    "\n",
    "for n_servers in n:\n",
    "    for rho in rho_vals:\n",
    "        for i in range(sim_runs):\n",
    "            total_waiting_time = []\n",
    "            sim_run(n=n_servers, rho=rho, mu=mu, sim_duration=sim_duration)\n",
    "            averages = np.concatenate((np.arange(100, 1000, 100), np.arange(1000, 10000, 1000), np.arange(10000, 100001, 10000)))\n",
    "            df = pd.DataFrame({\n",
    "                'run': [i] * len(averages),\n",
    "                'rho': [rho] * len(averages),\n",
    "                'number of servers': [n_servers] * len(averages),\n",
    "                'number of customers': averages,\n",
    "                'average waiting time': [np.mean(total_waiting_time[:n_customers]) for n_customers in averages]\n",
    "            })\n",
    "            data.append(df)\n",
    "\n",
    "        print(f'rho={rho} for server number {n_servers} finished')\n",
    "\n",
    "# Concatenate the list of DataFrames\n",
    "result_df = pd.concat(data, ignore_index=True)    "
   ]
  },
  {
   "cell_type": "code",
   "execution_count": null,
   "metadata": {},
   "outputs": [],
   "source": [
    "# Plot the mean and standard deviation of the waiting time"
   ]
  },
  {
   "cell_type": "markdown",
   "metadata": {},
   "source": [
    "SJF implementation"
   ]
  },
  {
   "cell_type": "markdown",
   "metadata": {},
   "source": [
    "#1 Simple SJF"
   ]
  },
  {
   "cell_type": "code",
   "execution_count": 12,
   "metadata": {},
   "outputs": [
    {
     "name": "stdout",
     "output_type": "stream",
     "text": [
      "Total customers served: 364\n",
      "Average waiting time: 3.908082198304474\n"
     ]
    }
   ],
   "source": [
    "\n",
    "def source(env, mu, n, rho, queue):\n",
    "    while True:\n",
    "        time_of_handling = random.expovariate(mu)\n",
    "        arrival_time = env.now\n",
    "        heapq.heappush(queue, (time_of_handling, arrival_time))\n",
    "        #print(f\"Bisy: {servers.count}\")\n",
    "        yield env.timeout(random.expovariate(mu*n*rho))\n",
    "\n",
    "def do_work(env, client, servers, time_to_finish, total_waiting_time):\n",
    "    with servers.request() as req:\n",
    "        yield req\n",
    "        #print(f\"Number of servers in util: {servers.count}\")\n",
    "        yield env.timeout(time_to_finish)\n",
    "        total_waiting_time.append(env.now - client)\n",
    "\n",
    "def customer_initialise(env, servers, queue, total_waiting_time):\n",
    "    while True:\n",
    "        if queue:\n",
    "            time_to_finish, time_arival = heapq.heappop(queue)\n",
    "            env.process(do_work(env, time_arival, servers, time_to_finish, total_waiting_time))\n",
    "        else:\n",
    "            yield env.timeout(0.0001)\n",
    "\n",
    "mu = 1.0          \n",
    "n = 2             \n",
    "rho = 0.95         \n",
    "sim_time = 200    \n",
    "\n",
    "env = simpy.Environment()\n",
    "servers = simpy.Resource(env,capacity=n)\n",
    "priority_queue = []\n",
    "total_waiting_time = []\n",
    "\n",
    "env.process(source(env, mu, n, rho, priority_queue))\n",
    "env.process(customer_initialise(env, servers, priority_queue, total_waiting_time))\n",
    "env.run(until=sim_time)\n",
    "\n",
    "print(f\"Total customers served: {len(total_waiting_time)}\")\n",
    "print(f\"Average waiting time: {sum(total_waiting_time) / len(total_waiting_time) if total_waiting_time else 0}\")"
   ]
  },
  {
   "cell_type": "markdown",
   "metadata": {},
   "source": [
    "SJF with halting the precesses if faster customer arrives"
   ]
  },
  {
   "cell_type": "code",
   "execution_count": 11,
   "metadata": {},
   "outputs": [
    {
     "name": "stdout",
     "output_type": "stream",
     "text": [
      "Total customers served: 365\n",
      "Average waiting time: 2.824298002217367\n"
     ]
    }
   ],
   "source": [
    "\n",
    "class Client:\n",
    "    def __init__(self, time_of_arrival, time_of_handling):\n",
    "        self.time_of_arrival = time_of_arrival\n",
    "        self.time_of_handling = time_of_handling\n",
    "\n",
    "def source(env, mu, n, rho, queue):\n",
    "    while True:\n",
    "        time_of_handling = random.expovariate(mu)\n",
    "        arrival_time = env.now\n",
    "        heapq.heappush(queue, (time_of_handling, Client(arrival_time, time_of_handling)))\n",
    "        yield env.timeout(random.expovariate(mu*n*rho))\n",
    "\n",
    "def customer_service(env, client, servers, time_to_finish, total_waiting_time, queue):\n",
    "    with servers.request() as req:\n",
    "        yield req\n",
    "        if time_to_finish <= 0.01:\n",
    "            yield env.timeout(time_to_finish)\n",
    "            total_waiting_time.append(env.now - client.time_of_arrival)\n",
    "        else:\n",
    "            yield env.timeout(0.01)\n",
    "            arrival_time = client.time_of_arrival\n",
    "            time_of_handling = client.time_of_handling - 0.01\n",
    "            heapq.heappush(queue, (time_of_handling, Client(arrival_time, time_of_handling)))\n",
    "            \n",
    "def customer_proceed(env, servers, queue, total_waiting_time):\n",
    "    while True:\n",
    "        if queue:\n",
    "            time_to_finish, client = heapq.heappop(queue)\n",
    "            env.process(customer_service(env, client, servers, time_to_finish, total_waiting_time, queue))\n",
    "        else:\n",
    "            yield env.timeout(0.0001)\n",
    "\n",
    "mu = 1.0         \n",
    "n = 2             \n",
    "rho = 0.95         \n",
    "sim_time = 200   \n",
    "\n",
    "env = simpy.Environment()\n",
    "\n",
    "servers = simpy.Resource(env,capacity=n)\n",
    "priority_queue = []\n",
    "total_waiting_time = []\n",
    "\n",
    "env.process(source(env, mu, n, rho, priority_queue))\n",
    "env.process(customer_proceed(env, servers, priority_queue, total_waiting_time))\n",
    "env.run(until=sim_time)\n",
    "\n",
    "print(f\"Total customers served: {len(total_waiting_time)}\")\n",
    "print(f\"Average waiting time: {sum(total_waiting_time) / len(total_waiting_time) if total_waiting_time else 0}\")"
   ]
  }
 ],
 "metadata": {
  "kernelspec": {
   "display_name": "Python 3",
   "language": "python",
   "name": "python3"
  },
  "language_info": {
   "codemirror_mode": {
    "name": "ipython",
    "version": 3
   },
   "file_extension": ".py",
   "mimetype": "text/x-python",
   "name": "python",
   "nbconvert_exporter": "python",
   "pygments_lexer": "ipython3",
   "version": "3.11.6"
  }
 },
 "nbformat": 4,
 "nbformat_minor": 2
}

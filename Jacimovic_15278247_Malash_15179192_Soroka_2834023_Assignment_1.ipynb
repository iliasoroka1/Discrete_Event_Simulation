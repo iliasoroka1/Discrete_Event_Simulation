{
 "cells": [
  {
   "cell_type": "code",
   "execution_count": null,
   "metadata": {},
   "outputs": [],
   "source": [
    "import simpy\n",
    "import numpy as np\n",
    "import matplotlib.pyplot as plt\n",
    "import seaborn as sns\n",
    "import random\n",
    "import pandas as pd\n",
    "import time\n",
    "from scipy import stats"
   ]
  },
  {
   "cell_type": "markdown",
   "metadata": {},
   "source": [
    "Queuing theory tells us that for FIFO scheduling the average waiting times are shorter for an\n",
    "$M/M/n$ queue and a system load $\\rho$ and processor capacity $\\mu$ than for a single $M/M/1$ queue\n",
    "with the same load characteristics (and thus an n-fold lower arrival rate). Of course, $\\rho$ must be\n",
    "less than one, but the experiment only becomes interesting when $\\rho$ is not much less than one.\n",
    "\n",
    "$\\lambda$ then becomes $\\lambda = \\rho*n*\\mu$.\n",
    "\n",
    "Code sources: \"https://simpy.readthedocs.io/en/latest/examples/bank_renege.html\" and \"https://www.youtube.com/watch?v=eSNfC-HOl44\""
   ]
  },
  {
   "cell_type": "code",
   "execution_count": null,
   "metadata": {},
   "outputs": [],
   "source": [
    "# M/M/1 (M/M/n) queueing system\n",
    "def generate_interarrival(mu,n,rho):\n",
    "    return random.expovariate(mu*n*rho)\n",
    "\n",
    "def source(env, n, rho, mu, servers):\n",
    "    \"\"\"Source generates customers randomly based on exponential distribution\"\"\"\n",
    "    i = 0\n",
    "    while True:\n",
    "        i += 1\n",
    "        c = customer(env, i, servers, mu)\n",
    "        env.process(c)\n",
    "        t = random.expovariate(mu*n*rho)\n",
    "        yield env.timeout(t)   \n",
    "\n",
    "total_waiting_time = []\n",
    "\n",
    "def customer(env, customer, servers, mu):\n",
    "    time_of_arrival = env.now\n",
    "    with servers.request() as req:    \n",
    "        #print(env.now, 'customer {} arrives'.format(customer))\n",
    "        yield req\n",
    "        time_of_handling = random.expovariate(mu)\n",
    "        #print(env.now, 'customer {} is being served'.format(customer))\n",
    "        yield env.timeout(time_of_handling)\n",
    "        waiting_time = env.now\n",
    "        #print(env.now, 'customer {} departs'.format(customer))\n",
    "        total_waiting_time.append(waiting_time-time_of_arrival)\n",
    "\n",
    "### Setup and start the simulation\n",
    "\n",
    "# Initial values            \n",
    "mu = 1  # Parameter mu\n",
    "rho = 0.9 #[0.7,0.85,0.9,0.95,0.99] # Parameter rho (varying for values close to 1)\n",
    "n = 1 # Number of servers, in our case 1, 2 and 4\n",
    "\n",
    "env = simpy.Environment()\n",
    "\n",
    "# Start processes and run\n",
    "servers = simpy.Resource(env, capacity=n)\n",
    "env.process(source(env, n, rho, mu, servers))\n",
    "env.run(until=20)"
   ]
  },
  {
   "cell_type": "code",
   "execution_count": null,
   "metadata": {},
   "outputs": [],
   "source": [
    "# Defining function for simulating M/M/n queue system\n",
    "\n",
    "# Setup and start the simulation\n",
    "def sim_run(n,rho,mu,sim_duration):\n",
    "    env = simpy.Environment()\n",
    "    \n",
    "    # Start processes and run\n",
    "    servers = simpy.Resource(env, capacity=n)\n",
    "    env.process(source(env, n, rho, mu, servers))\n",
    "    env.run(until=sim_duration)\n",
    "    \n",
    "# Looping over the simulation and extracting mean and standard deviation\n",
    "# Initial values\n",
    "sim_duration = 5000            \n",
    "mu = 1  # Parameter mu\n",
    "rho_vals = [0.9,0.95] #[0.7,0.85,0.92,0.95,0.99]\n",
    "n = [2] #[1,2,4]"
   ]
  }
 ],
 "metadata": {
  "kernelspec": {
   "display_name": "Python 3",
   "language": "python",
   "name": "python3"
  },
  "language_info": {
   "codemirror_mode": {
    "name": "ipython",
    "version": 3
   },
   "file_extension": ".py",
   "mimetype": "text/x-python",
   "name": "python",
   "nbconvert_exporter": "python",
   "pygments_lexer": "ipython3",
   "version": "3.11.4"
  }
 },
 "nbformat": 4,
 "nbformat_minor": 2
}
